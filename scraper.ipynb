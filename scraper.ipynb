{
  "cells": [
    {
      "cell_type": "code",
      "execution_count": 2,
      "metadata": {
        "id": "j1pVWcWcNYq2"
      },
      "outputs": [],
      "source": [
        "!pip install mechanicalsoup"
      ]
    },
    {
      "cell_type": "code",
      "execution_count": 3,
      "metadata": {
        "id": "M6l-KghcM-x3"
      },
      "outputs": [],
      "source": [
        "import mechanicalsoup\n",
        "import pandas as pd\n",
        "import sqlite3"
      ]
    },
    {
      "cell_type": "code",
      "execution_count": 4,
      "metadata": {
        "colab": {
          "base_uri": "https://localhost:8080/"
        },
        "id": "K5HSI2DFNS8W",
        "outputId": "ddad16ed-a599-4d7d-a857-b11e03f048af"
      },
      "outputs": [
        {
          "data": {
            "text/plain": [
              "<Response [200]>"
            ]
          },
          "execution_count": 4,
          "metadata": {},
          "output_type": "execute_result"
        }
      ],
      "source": [
        "browser = mechanicalsoup.StatefulBrowser()\n",
        "browser.open(\"https://www.lonelyplanet.com/egypt/attractions\")"
      ]
    },
    {
      "cell_type": "code",
      "execution_count": 5,
      "metadata": {
        "id": "-sqx68yUOfLY"
      },
      "outputs": [],
      "source": [
        "a_tags = browser.page.find_all(\"a\", attrs={\"class\": \"underline-none\"})\n",
        "\"\"\"\n",
        "categorys = [tag.text for tag in a_tags] \n",
        "# categorys = ['Sights', 'Restaurants', 'Entertainment', 'Nightlife', 'Shopping', 'Hotels']\n",
        "\"\"\"\n",
        "\n",
        "categorys_dict = {tag.text: {\"url\": f'https://www.lonelyplanet.com{tag[\"href\"]}'} for tag in a_tags}"
      ]
    },
    {
      "cell_type": "code",
      "execution_count": 6,
      "metadata": {
        "id": "aXOpHQNuOyzO"
      },
      "outputs": [],
      "source": [
        "\"\"\"\n",
        "places = browser.page.find_all(\"li\", attrs={\"class\": \"my-3\"})\n",
        "top_palces_name = [tag.article.a.text for tag in places]\n",
        "top_palces_description = [tag.article.a[\"href\"] for tag in places]\n",
        "\"\"\"\n",
        "places = browser.page.find_all(\"li\", attrs={\"class\": \"my-3\"})\n",
        "top_palces = {\n",
        "    place.article.a.text: {\n",
        "        \"url\": f'https://www.lonelyplanet.com{place.article.a[\"href\"]}',\n",
        "        }\n",
        "    for place in places\n",
        "}"
      ]
    },
    {
      "cell_type": "code",
      "execution_count": 7,
      "metadata": {
        "colab": {
          "base_uri": "https://localhost:8080/"
        },
        "id": "V42Pcp5amvKE",
        "outputId": "171f971e-333e-49c7-cf24-487fad937f48"
      },
      "outputs": [
        {
          "name": "stdout",
          "output_type": "stream",
          "text": [
            "['Top choice', 'Sinai']\n"
          ]
        }
      ],
      "source": [
        "# li class=\"flex my-2 text-sm\"\n",
        "browser.open(\"https://www.lonelyplanet.com/egypt/st-katherine-protectorate/attractions/st-catherine-s-monastery/a/poi-sig/1136752/1295713\")  # for opening the links\n",
        "details = browser.page.find_all(\"li\", attrs={\"class\": \"flex my-2 text-sm\"}) # get all places tags\n",
        "\n",
        "# for det in details:\n",
        "#   print(det.text)\n",
        "\n",
        "Location = browser.page.find(\"div\", attrs={\"class\": \"italic\"})\n",
        "print(Location.text.split(\" in \"))\n"
      ]
    },
    {
      "cell_type": "code",
      "execution_count": 8,
      "metadata": {
        "id": "AcWA0D8oWsg2"
      },
      "outputs": [],
      "source": [
        "api = []\n",
        "categorys = {tag.text: {\"url\": f'https://www.lonelyplanet.com{tag[\"href\"]}'} for tag in a_tags}\n",
        "for cat in categorys.items():\n",
        "  cat_name, cat_url = cat[0], cat[1][\"url\"]\n",
        "  browser.open(cat_url)  # for opening the links\n",
        "  places = browser.page.find_all(\"li\", attrs={\"class\": \"my-3\"}) # get all places tags\n",
        "\n",
        "  # store places accourding to it's category on this dict with name and url\n",
        "  for place in places:\n",
        "    place_url = f'https://www.lonelyplanet.com{place.article.a[\"href\"]}'\n",
        "    place_url = place.article.a[\"href\"]\n",
        "    browser.open_relative(place_url)\n",
        "    details = browser.page.find_all(\"li\", attrs={\"class\": \"flex my-2 text-sm\"})\n",
        "    Location = browser.page.find(\"div\", attrs={\"class\": \"italic\"})\n",
        "    description = browser.page.find(\"div\", attrs={\"class\": \"lg:w-full styles_article-body__9UptP\"})\n",
        "\n",
        "    # \"url\": place_url,\n",
        "    api.append({\n",
        "        \"location_name\": place.article.a.text,\n",
        "        \"category\": cat_name, \n",
        "        \"location\": Location.text.split(\" in \")[-1],\n",
        "        \"description\": description.p.text,\n",
        "        \"details\": [det.text for det in details]\n",
        "        })\n"
      ]
    },
    {
      "cell_type": "code",
      "execution_count": 9,
      "metadata": {
        "colab": {
          "base_uri": "https://localhost:8080/"
        },
        "id": "csK5Faec1MRq",
        "outputId": "85a6b96e-9297-4d7e-c548-570b8f8d2314"
      },
      "outputs": [
        {
          "name": "stdout",
          "output_type": "stream",
          "text": [
            "<class 'pandas.core.frame.DataFrame'>\n",
            "RangeIndex: 120 entries, 0 to 119\n",
            "Data columns (total 5 columns):\n",
            " #   Column         Non-Null Count  Dtype \n",
            "---  ------         --------------  ----- \n",
            " 0   location_name  120 non-null    object\n",
            " 1   category       120 non-null    object\n",
            " 2   location       120 non-null    object\n",
            " 3   description    120 non-null    object\n",
            " 4   details        120 non-null    object\n",
            "dtypes: object(5)\n",
            "memory usage: 4.8+ KB\n"
          ]
        }
      ],
      "source": [
        "data = pd.DataFrame(api)\n",
        "data.info()\n",
        "# api"
      ]
    },
    {
      "cell_type": "code",
      "execution_count": 10,
      "metadata": {
        "id": "2RAfb0Ns7kMi"
      },
      "outputs": [],
      "source": [
        "# data.to_dict('records')[0][\"category\"]\n",
        "test = {}\n",
        "for idx, place in enumerate(api):\n",
        "  category = place[\"category\"]\n",
        "\n",
        "  # drop category and url from data \n",
        "  # place_data = {\"name\": place[\"name\"], \"details\": place[\"details\"]}\n",
        "\n",
        "  if category not in test:\n",
        "      test[category] = [place]\n",
        "  else:\n",
        "    test[category].append(place)"
      ]
    }
  ],
  "metadata": {
    "colab": {
      "provenance": []
    },
    "kernelspec": {
      "display_name": "Python 3",
      "name": "python3"
    },
    "language_info": {
      "name": "python"
    }
  },
  "nbformat": 4,
  "nbformat_minor": 0
}
